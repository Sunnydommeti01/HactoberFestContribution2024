{
 "cells": [
  {
   "cell_type": "code",
   "execution_count": 1,
   "id": "4e8b6a0b-d2c8-4ea0-9a7e-780d9543cba4",
   "metadata": {},
   "outputs": [],
   "source": [
    "class Atm:\n",
    "    def __init__(self,pin):\n",
    "        tempin=4789\n",
    "        self.pin=pin\n",
    "        for i in range(0,4):\n",
    "            if tempin== pin:\n",
    "                print(\"Welcome to our bank, we are very honored to assit you\")\n",
    "        else:\n",
    "            print('Your account has been kept on hold')"
   ]
  },
  {
   "cell_type": "code",
   "execution_count": 2,
   "id": "b65ed943-5e48-45bb-b1e2-724ac4971254",
   "metadata": {},
   "outputs": [
    {
     "name": "stdout",
     "output_type": "stream",
     "text": [
      "Welcome to our bank, we are very honored to assit you\n",
      "Welcome to our bank, we are very honored to assit you\n",
      "Welcome to our bank, we are very honored to assit you\n",
      "Welcome to our bank, we are very honored to assit you\n",
      "Your account has been kept on hold\n"
     ]
    },
    {
     "data": {
      "text/plain": [
       "<__main__.Atm at 0x1b8de3cf510>"
      ]
     },
     "execution_count": 2,
     "metadata": {},
     "output_type": "execute_result"
    }
   ],
   "source": [
    "Atm(4789)"
   ]
  },
  {
   "cell_type": "code",
   "execution_count": null,
   "id": "6bf321da-41e4-40b4-b7a4-bdc2d9f7839d",
   "metadata": {},
   "outputs": [],
   "source": [
    "class ATm:\n",
    "    def __init__(self,pin):     \n",
    "        self.pin=pin\n",
    "        self.bal=123445\n",
    "        self.num=6303503298\n",
    "        self.otp=4141\n",
    "        tempin=4789\n",
    "        int1=input('Please enter old user or new user')\n",
    "        if int1=='old' or int1=='olduser':\n",
    "            print('Enter the password:')\n",
    "            if tempin== pin:\n",
    "                print(\"Welcome to our bank, we are very honored to assit you\")\n",
    "                self.options()\n",
    "            else:\n",
    "                print(\"Incorrect pin\")\n",
    "        elif int1=='newuser' or int1=='new':\n",
    "            print('How may i assist you! please')\n",
    "            self.option()\n",
    "        else:\n",
    "            print('Issue')\n",
    "    def options(self):\n",
    "         print(\"\"\"Here the options that may help in assisting:\n",
    "         option-1: Pin change\n",
    "         option-2: Check Balance\n",
    "         option-3: Deposit\n",
    "         option-4: Withdraw\n",
    "         option-5: Number change\"\"\")\n",
    "         it=int(input(\"Enter the option you wanna go with\"))\n",
    "         if it==1:\n",
    "             self.pinchange()\n",
    "         if it==2:\n",
    "             self.checkbalance()\n",
    "         if it==3:\n",
    "             self.deposit()\n",
    "         if it==4:\n",
    "             self.withdraw()\n",
    "         if it==5:\n",
    "             self.nchange()\n",
    "    def option(self):\n",
    "        print(\"\"\"Here the options that may help in assisting:\n",
    "        option-1: Create new account\"\"\")\n",
    "        itf=int(input(\"Enter the option you wanna go with:\"))\n",
    "        if itf==1:\n",
    "            self.cna()\n",
    "            \n",
    "    def pinchange(self):\n",
    "        \n",
    "        it1=int(input('Please enter your old Password'))\n",
    "        if it1==self.pin:\n",
    "            it2=int(input('Please enter your new Password'))\n",
    "            self.pin=it2\n",
    "            print(f\"Your password has been updated successfully form {it1} to {self.pin}.\")\n",
    "        else:\n",
    "            print(\"Enter the valid pin\")\n",
    "            self.options()\n",
    "    def checkbalance(self):\n",
    "        print(f\"The current balance in your account is {self.bal}\")\n",
    "    def deposit(self):\n",
    "        it3=int(input(\"Enter the amount you want to deposit:\"))\n",
    "        if it3<50000:\n",
    "            print(\"The deposit was sucessfull,and the total balance is\",self.bal+it3)\n",
    "        else:\n",
    "            print(\"The limit is 50000\")\n",
    "    def withdraw(self):\n",
    "        it4=int(input(\"Enter the amount you want to withdraw:\"))\n",
    "        if it4<self.bal:\n",
    "            print(\"The withdraw was sucess full and the remaing amount is\",self.bal-it4)\n",
    "        else:\n",
    "            print(\"Insufficent Balance\")\n",
    "    def nchange(self):\n",
    "        it5=int(input(\"Enter your number your registered with:\"))\n",
    "        if it5==self.num:\n",
    "            it6=int(input(\"Enter the otp that your assigned with:\"))\n",
    "            if self.otp==it6:\n",
    "                it7=int(input(\"Enter your new number:\"))\n",
    "                self.num=it7\n",
    "                print(f\"The number updated from {it5} to {self.num}\")\n",
    "            else:\n",
    "                print(\"The OTP provided is incorrect\")\n",
    "        else:\n",
    "            print('The number is not registered')\n",
    "    def cna(self):\n",
    "        ig=input(\"May i know the type of account your looking for:saving acoount or current account\")\n",
    "        if ig=='saving' or ig=='saving account':\n",
    "            print(\"Details needed for the saving account\")\n",
    "            self.saving()\n",
    "        elif ig==\"current\" or ig==\"current account\":\n",
    "            print(\"Details needed for the current account\")\n",
    "            self.current()\n",
    "    def saving(self):\n",
    "        e_name=input(\"Enter user name\")\n",
    "        e_num=int(input(\"Enter the user number\"))\n",
    "        e_otp=int(input(\"Enter the assigned otp\"))\n",
    "        e_amt=int(input(\"Enter the amount you wanna minimum deposit\"))\n",
    "        if e_otp==self.otp:\n",
    "            print(\"congractulations your savings account has been created sucessfully:\")\n",
    "            print(f\"Account Holder:{e_name}\")\n",
    "            print(f\"Mobile number:{e_num}\")\n",
    "            print(f\"Pin:{self.pin}\")\n",
    "            print(f\"Balance:{e_amt}\")\n",
    "        else:\n",
    "            print(\"The provided otp is wrong\")\n",
    "    def current(self):\n",
    "        e_name=input(\"Enter user name\")\n",
    "        e_num=int(input(\"Enter the user number\"))\n",
    "        e_otp=int(input(\"Enter the assigned otp\"))\n",
    "        if e_otp==self.otp:\n",
    "            print(\"congractulations your savings account has been created sucessfully:\")\n",
    "            print(f\"Account Holder:{e_name}\")\n",
    "            print(f\"Mobile number:{e_num}\")\n",
    "            print(f\"Pin:{self.pin}\")\n",
    "            print(\"The minmum amount should be deposited in within few days\")\n",
    "        else:\n",
    "            print(\"The provided otp is wrong\")       "
   ]
  },
  {
   "cell_type": "code",
   "execution_count": null,
   "id": "8dd71e02-015e-4e47-a630-ed540d3f4f61",
   "metadata": {},
   "outputs": [],
   "source": [
    "ATm(4759)"
   ]
  }
 ],
 "metadata": {
  "kernelspec": {
   "display_name": "Python 3 (ipykernel)",
   "language": "python",
   "name": "python3"
  },
  "language_info": {
   "codemirror_mode": {
    "name": "ipython",
    "version": 3
   },
   "file_extension": ".py",
   "mimetype": "text/x-python",
   "name": "python",
   "nbconvert_exporter": "python",
   "pygments_lexer": "ipython3",
   "version": "3.11.7"
  }
 },
 "nbformat": 4,
 "nbformat_minor": 5
}
